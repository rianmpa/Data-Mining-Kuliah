{
  "nbformat": 4,
  "nbformat_minor": 0,
  "metadata": {
    "colab": {
      "name": "preprocessing.ipynb",
      "provenance": [],
      "collapsed_sections": [],
      "authorship_tag": "ABX9TyNnSmJyklJl03ISPVIPcgEm",
      "include_colab_link": true
    },
    "kernelspec": {
      "name": "python3",
      "display_name": "Python 3"
    },
    "language_info": {
      "name": "python"
    }
  },
  "cells": [
    {
      "cell_type": "markdown",
      "metadata": {
        "id": "view-in-github",
        "colab_type": "text"
      },
      "source": [
        "<a href=\"https://colab.research.google.com/github/rianmpa/Data-Mining-Kuliah/blob/main/preprocessing.ipynb\" target=\"_parent\"><img src=\"https://colab.research.google.com/assets/colab-badge.svg\" alt=\"Open In Colab\"/></a>"
      ]
    },
    {
      "cell_type": "code",
      "metadata": {
        "id": "Wak-2NayTW9_"
      },
      "source": [
        "import numpy as np\n",
        "import matplotlib.pyplot as plt\n",
        "import pandas as pd\n"
      ],
      "execution_count": 1,
      "outputs": []
    },
    {
      "cell_type": "code",
      "metadata": {
        "colab": {
          "base_uri": "https://localhost:8080/"
        },
        "id": "bE03dIPRUuhV",
        "outputId": "8c52c873-d609-4b21-f464-52d6ee1fbd72"
      },
      "source": [
        "dataset= pd.read_csv('nuclearWeaponStates.csv.csv')\n",
        "X = dataset.iloc[:,:-1].values\n",
        "Y = dataset.iloc[:,-1].values\n",
        "print(X)\n",
        "print(Y)"
      ],
      "execution_count": 3,
      "outputs": [
        {
          "output_type": "stream",
          "text": [
            "[[1 'US' 'US' '1945-07-16' 1945.53698630137 nan 6550 3830 0 0 2720 328.2\n",
            "  2019 21439.0 2019 'USA' '1942-01-19']\n",
            " [2 'Russia' 'RU' '1949-08-29' 1949.65753424658 4.12054794520554 6490\n",
            "  4509 92 0 1889 146.7 2020 1657.0 2020 'SUN' '1945-08-22']\n",
            " [3 'UK' 'GB' '1952-10-03' 1952.75409836066 3.09656411408037 225 0 0 0\n",
            "  225 67.5 2019 2744.0 2019 'GBR' '1947-01-08']\n",
            " [4 'France' 'FR' '1960-02-13' 1960.1174863388 7.363387978142099 300 60 0\n",
            "  0 240 67.0 2019 2771.0 2020 'FRA' '1956-11-07']\n",
            " [5 'China' 'CN' '1964-10-16' 1964.7896174863397 4.67213114754099 280 46\n",
            "  0 0 234 1427.6 2018 14140.0 2019 'CHN' '1955-04-23']\n",
            " [6 'India' 'IN' '1974-05-18' 1974.37534246575 9.58572497941464 130 48 38\n",
            "  44 0 1352.6 2018 2936.0 219 'IND' '1962-11-21']\n",
            " [7 'Israel' 'IL' '1979-09-22' 1979.72328767123 5.347945205479389 80 80 0\n",
            "  0 0 9.1 2020 390.656 2019 'ISR' '1949-03-10']\n",
            " [8 'Pakistan' 'PK' '1998-05-28' 1998.40273972603 18.679452054794602 150\n",
            "  72 78 0 0 207.8 2017 284.2 2019 'PAK' '1972-01-20']\n",
            " [9 'North Korea ' 'KP' '2006-10-09' 2006.7698630137 8.36712328767112 20\n",
            "  20 0 0 0 25.5 2018 30.0 2017 'PRK' '1980-01-01']]\n",
            "[1942.04931507 1945.63835616 1947.01917808 1956.84972678 1955.30684932\n",
            " 1962.88767123 1949.18630137 1972.05191257 1980.        ]\n"
          ],
          "name": "stdout"
        }
      ]
    },
    {
      "cell_type": "code",
      "metadata": {
        "id": "j6iJEGomWMvk"
      },
      "source": [
        "from sklearn.impute import SimpleImputer\n",
        "imputer = SimpleImputer(missing_values=np.nan, strategy='mean')\n",
        "X[:, 1:3] = imputer.transform(X[:, 1:3])\n",
        "#missing values = nilai data yang digunakan sebagai penanda bahwa nilai aslinya tidak ada \n",
        "#strategy : menggunakan rata-rata kolom mean bisa juga menggunakan median, most_frequent(modus) atau constant"
      ],
      "execution_count": null,
      "outputs": []
    },
    {
      "cell_type": "code",
      "metadata": {
        "colab": {
          "base_uri": "https://localhost:8080/"
        },
        "id": "LQMdjNQ9W9AX",
        "outputId": "ce169b69-d81c-4c9d-e3c7-435b9cebf127"
      },
      "source": [
        "print(X)"
      ],
      "execution_count": 6,
      "outputs": [
        {
          "output_type": "stream",
          "text": [
            "[[1 'US' 'US' '1945-07-16' 1945.53698630137 nan 6550 3830 0 0 2720 328.2\n",
            "  2019 21439.0 2019 'USA' '1942-01-19']\n",
            " [2 'Russia' 'RU' '1949-08-29' 1949.65753424658 4.12054794520554 6490\n",
            "  4509 92 0 1889 146.7 2020 1657.0 2020 'SUN' '1945-08-22']\n",
            " [3 'UK' 'GB' '1952-10-03' 1952.75409836066 3.09656411408037 225 0 0 0\n",
            "  225 67.5 2019 2744.0 2019 'GBR' '1947-01-08']\n",
            " [4 'France' 'FR' '1960-02-13' 1960.1174863388 7.363387978142099 300 60 0\n",
            "  0 240 67.0 2019 2771.0 2020 'FRA' '1956-11-07']\n",
            " [5 'China' 'CN' '1964-10-16' 1964.7896174863397 4.67213114754099 280 46\n",
            "  0 0 234 1427.6 2018 14140.0 2019 'CHN' '1955-04-23']\n",
            " [6 'India' 'IN' '1974-05-18' 1974.37534246575 9.58572497941464 130 48 38\n",
            "  44 0 1352.6 2018 2936.0 219 'IND' '1962-11-21']\n",
            " [7 'Israel' 'IL' '1979-09-22' 1979.72328767123 5.347945205479389 80 80 0\n",
            "  0 0 9.1 2020 390.656 2019 'ISR' '1949-03-10']\n",
            " [8 'Pakistan' 'PK' '1998-05-28' 1998.40273972603 18.679452054794602 150\n",
            "  72 78 0 0 207.8 2017 284.2 2019 'PAK' '1972-01-20']\n",
            " [9 'North Korea ' 'KP' '2006-10-09' 2006.7698630137 8.36712328767112 20\n",
            "  20 0 0 0 25.5 2018 30.0 2017 'PRK' '1980-01-01']]\n"
          ],
          "name": "stdout"
        }
      ]
    },
    {
      "cell_type": "code",
      "metadata": {
        "colab": {
          "base_uri": "https://localhost:8080/"
        },
        "id": "9E3D5pyOXZzW",
        "outputId": "99c62d6d-614e-45c2-eb93-81e5a9420c72"
      },
      "source": [
        "#Enconding Data kategori(Atribut)\n",
        "from sklearn.compose import ColumnTransformer\n",
        "from sklearn.preprocessing import OneHotEncoder\n",
        "ct = ColumnTransformer(transformers=[('encoder', OneHotEncoder(), [0])], remainder='passthrough')\n",
        "X = np.array(ct.fit_transform(X))\n",
        "print(X)"
      ],
      "execution_count": 7,
      "outputs": [
        {
          "output_type": "stream",
          "text": [
            "[[1.0 0.0 0.0 0.0 0.0 0.0 0.0 0.0 0.0 'US' 'US' '1945-07-16'\n",
            "  1945.53698630137 nan 6550 3830 0 0 2720 328.2 2019 21439.0 2019 'USA'\n",
            "  '1942-01-19']\n",
            " [0.0 1.0 0.0 0.0 0.0 0.0 0.0 0.0 0.0 'Russia' 'RU' '1949-08-29'\n",
            "  1949.65753424658 4.12054794520554 6490 4509 92 0 1889 146.7 2020 1657.0\n",
            "  2020 'SUN' '1945-08-22']\n",
            " [0.0 0.0 1.0 0.0 0.0 0.0 0.0 0.0 0.0 'UK' 'GB' '1952-10-03'\n",
            "  1952.75409836066 3.09656411408037 225 0 0 0 225 67.5 2019 2744.0 2019\n",
            "  'GBR' '1947-01-08']\n",
            " [0.0 0.0 0.0 1.0 0.0 0.0 0.0 0.0 0.0 'France' 'FR' '1960-02-13'\n",
            "  1960.1174863388 7.363387978142099 300 60 0 0 240 67.0 2019 2771.0 2020\n",
            "  'FRA' '1956-11-07']\n",
            " [0.0 0.0 0.0 0.0 1.0 0.0 0.0 0.0 0.0 'China' 'CN' '1964-10-16'\n",
            "  1964.7896174863397 4.67213114754099 280 46 0 0 234 1427.6 2018 14140.0\n",
            "  2019 'CHN' '1955-04-23']\n",
            " [0.0 0.0 0.0 0.0 0.0 1.0 0.0 0.0 0.0 'India' 'IN' '1974-05-18'\n",
            "  1974.37534246575 9.58572497941464 130 48 38 44 0 1352.6 2018 2936.0 219\n",
            "  'IND' '1962-11-21']\n",
            " [0.0 0.0 0.0 0.0 0.0 0.0 1.0 0.0 0.0 'Israel' 'IL' '1979-09-22'\n",
            "  1979.72328767123 5.347945205479389 80 80 0 0 0 9.1 2020 390.656 2019\n",
            "  'ISR' '1949-03-10']\n",
            " [0.0 0.0 0.0 0.0 0.0 0.0 0.0 1.0 0.0 'Pakistan' 'PK' '1998-05-28'\n",
            "  1998.40273972603 18.679452054794602 150 72 78 0 0 207.8 2017 284.2 2019\n",
            "  'PAK' '1972-01-20']\n",
            " [0.0 0.0 0.0 0.0 0.0 0.0 0.0 0.0 1.0 'North Korea ' 'KP' '2006-10-09'\n",
            "  2006.7698630137 8.36712328767112 20 20 0 0 0 25.5 2018 30.0 2017 'PRK'\n",
            "  '1980-01-01']]\n"
          ],
          "name": "stdout"
        }
      ]
    },
    {
      "cell_type": "code",
      "metadata": {
        "colab": {
          "base_uri": "https://localhost:8080/"
        },
        "id": "PtgJrEK2Wx_c",
        "outputId": "9a296c0d-490f-4c51-c332-5a29850f532f"
      },
      "source": [
        "#Encoding Data kategori(class/label)\n",
        "from sklearn.preprocessing import LabelEncoder\n",
        "le = LabelEncoder()\n",
        "y = le.fit_transform(Y)\n",
        "\n",
        "print(Y)"
      ],
      "execution_count": 8,
      "outputs": [
        {
          "output_type": "stream",
          "text": [
            "[1942.04931507 1945.63835616 1947.01917808 1956.84972678 1955.30684932\n",
            " 1962.88767123 1949.18630137 1972.05191257 1980.        ]\n"
          ],
          "name": "stdout"
        }
      ]
    },
    {
      "cell_type": "code",
      "metadata": {
        "colab": {
          "base_uri": "https://localhost:8080/"
        },
        "id": "DzZLI0uKXizr",
        "outputId": "d89502dc-1360-4967-f41d-20ec901428c5"
      },
      "source": [
        "#Membagi dataset ke dalam training set dan test set\n",
        "from sklearn.model_selection import train_test_split\n",
        "X_train, X_test, Y_train, Y_test = train_test_split(X, Y, test_size = 0.2, random_state =1)\n",
        "print(X_train)\n",
        "print(X_test)\n",
        "print(Y_train)\n",
        "print(Y_test)\n",
        "\n"
      ],
      "execution_count": 9,
      "outputs": [
        {
          "output_type": "stream",
          "text": [
            "[[0.0 0.0 0.0 0.0 0.0 0.0 1.0 0.0 0.0 'Israel' 'IL' '1979-09-22'\n",
            "  1979.72328767123 5.347945205479389 80 80 0 0 0 9.1 2020 390.656 2019\n",
            "  'ISR' '1949-03-10']\n",
            " [0.0 0.0 0.0 0.0 0.0 0.0 0.0 1.0 0.0 'Pakistan' 'PK' '1998-05-28'\n",
            "  1998.40273972603 18.679452054794602 150 72 78 0 0 207.8 2017 284.2 2019\n",
            "  'PAK' '1972-01-20']\n",
            " [0.0 1.0 0.0 0.0 0.0 0.0 0.0 0.0 0.0 'Russia' 'RU' '1949-08-29'\n",
            "  1949.65753424658 4.12054794520554 6490 4509 92 0 1889 146.7 2020 1657.0\n",
            "  2020 'SUN' '1945-08-22']\n",
            " [1.0 0.0 0.0 0.0 0.0 0.0 0.0 0.0 0.0 'US' 'US' '1945-07-16'\n",
            "  1945.53698630137 nan 6550 3830 0 0 2720 328.2 2019 21439.0 2019 'USA'\n",
            "  '1942-01-19']\n",
            " [0.0 0.0 0.0 0.0 1.0 0.0 0.0 0.0 0.0 'China' 'CN' '1964-10-16'\n",
            "  1964.7896174863397 4.67213114754099 280 46 0 0 234 1427.6 2018 14140.0\n",
            "  2019 'CHN' '1955-04-23']\n",
            " [0.0 0.0 0.0 1.0 0.0 0.0 0.0 0.0 0.0 'France' 'FR' '1960-02-13'\n",
            "  1960.1174863388 7.363387978142099 300 60 0 0 240 67.0 2019 2771.0 2020\n",
            "  'FRA' '1956-11-07']\n",
            " [0.0 0.0 0.0 0.0 0.0 1.0 0.0 0.0 0.0 'India' 'IN' '1974-05-18'\n",
            "  1974.37534246575 9.58572497941464 130 48 38 44 0 1352.6 2018 2936.0 219\n",
            "  'IND' '1962-11-21']]\n",
            "[[0.0 0.0 0.0 0.0 0.0 0.0 0.0 0.0 1.0 'North Korea ' 'KP' '2006-10-09'\n",
            "  2006.7698630137 8.36712328767112 20 20 0 0 0 25.5 2018 30.0 2017 'PRK'\n",
            "  '1980-01-01']\n",
            " [0.0 0.0 1.0 0.0 0.0 0.0 0.0 0.0 0.0 'UK' 'GB' '1952-10-03'\n",
            "  1952.75409836066 3.09656411408037 225 0 0 0 225 67.5 2019 2744.0 2019\n",
            "  'GBR' '1947-01-08']]\n",
            "[1949.18630137 1972.05191257 1945.63835616 1942.04931507 1955.30684932\n",
            " 1956.84972678 1962.88767123]\n",
            "[1980.         1947.01917808]\n"
          ],
          "name": "stdout"
        }
      ]
    },
    {
      "cell_type": "code",
      "metadata": {
        "id": "Om4oroa2XlyE"
      },
      "source": [
        "#Feature Scaling \n",
        "from sklearn.preprocessing import StandardScaler\n",
        "sc = StandardScaler()\n",
        "X_train[:, 3:] = sc.fit_transform(X_train[:, 3:])\n",
        "X_test[:, 3:] = sc.trasnform(X_test[:, 3:])\n",
        "\n"
      ],
      "execution_count": null,
      "outputs": []
    },
    {
      "cell_type": "code",
      "metadata": {
        "colab": {
          "base_uri": "https://localhost:8080/"
        },
        "id": "93ULREqNXpsl",
        "outputId": "32720fc1-4777-4c2e-c26f-8a9ee6492055"
      },
      "source": [
        "print(X_train)\n",
        "print(X_test)"
      ],
      "execution_count": 10,
      "outputs": [
        {
          "output_type": "stream",
          "text": [
            "[[0.0 0.0 0.0 0.0 0.0 0.0 1.0 0.0 0.0 'Israel' 'IL' '1979-09-22'\n",
            "  1979.72328767123 5.347945205479389 80 80 0 0 0 9.1 2020 390.656 2019\n",
            "  'ISR' '1949-03-10']\n",
            " [0.0 0.0 0.0 0.0 0.0 0.0 0.0 1.0 0.0 'Pakistan' 'PK' '1998-05-28'\n",
            "  1998.40273972603 18.679452054794602 150 72 78 0 0 207.8 2017 284.2 2019\n",
            "  'PAK' '1972-01-20']\n",
            " [0.0 1.0 0.0 0.0 0.0 0.0 0.0 0.0 0.0 'Russia' 'RU' '1949-08-29'\n",
            "  1949.65753424658 4.12054794520554 6490 4509 92 0 1889 146.7 2020 1657.0\n",
            "  2020 'SUN' '1945-08-22']\n",
            " [1.0 0.0 0.0 0.0 0.0 0.0 0.0 0.0 0.0 'US' 'US' '1945-07-16'\n",
            "  1945.53698630137 nan 6550 3830 0 0 2720 328.2 2019 21439.0 2019 'USA'\n",
            "  '1942-01-19']\n",
            " [0.0 0.0 0.0 0.0 1.0 0.0 0.0 0.0 0.0 'China' 'CN' '1964-10-16'\n",
            "  1964.7896174863397 4.67213114754099 280 46 0 0 234 1427.6 2018 14140.0\n",
            "  2019 'CHN' '1955-04-23']\n",
            " [0.0 0.0 0.0 1.0 0.0 0.0 0.0 0.0 0.0 'France' 'FR' '1960-02-13'\n",
            "  1960.1174863388 7.363387978142099 300 60 0 0 240 67.0 2019 2771.0 2020\n",
            "  'FRA' '1956-11-07']\n",
            " [0.0 0.0 0.0 0.0 0.0 1.0 0.0 0.0 0.0 'India' 'IN' '1974-05-18'\n",
            "  1974.37534246575 9.58572497941464 130 48 38 44 0 1352.6 2018 2936.0 219\n",
            "  'IND' '1962-11-21']]\n",
            "[[0.0 0.0 0.0 0.0 0.0 0.0 0.0 0.0 1.0 'North Korea ' 'KP' '2006-10-09'\n",
            "  2006.7698630137 8.36712328767112 20 20 0 0 0 25.5 2018 30.0 2017 'PRK'\n",
            "  '1980-01-01']\n",
            " [0.0 0.0 1.0 0.0 0.0 0.0 0.0 0.0 0.0 'UK' 'GB' '1952-10-03'\n",
            "  1952.75409836066 3.09656411408037 225 0 0 0 225 67.5 2019 2744.0 2019\n",
            "  'GBR' '1947-01-08']]\n"
          ],
          "name": "stdout"
        }
      ]
    }
  ]
}